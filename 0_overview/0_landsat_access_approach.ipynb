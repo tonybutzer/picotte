{
 "cells": [
  {
   "cell_type": "markdown",
   "id": "4b46c94d",
   "metadata": {},
   "source": [
    "# Prior Art"
   ]
  },
  {
   "cell_type": "markdown",
   "id": "210a0e16",
   "metadata": {},
   "source": [
    "# Danielson's NLCD Work\n",
    "\n",
    "- others working on compositing - geomedians\n",
    "- Brian Killough's NASA group - derived from the Aussies\n",
    "- The Aussies\n",
    "- Matt Hanson of stac fame\n",
    "- Kelcy Smith\n",
    "- Pat Danielson - Kory Postma and Brett Bunde\n",
    "- Ray Dittmeier, Brian Tolk, Josh Picotte"
   ]
  },
  {
   "cell_type": "markdown",
   "id": "cf68a5b7",
   "metadata": {},
   "source": [
    "# Tiling Approaches\n",
    "- ARD Tiling\n",
    "- WRS-2 Tiling\n",
    "- MGRS Utm Tiling"
   ]
  },
  {
   "cell_type": "markdown",
   "id": "d80c59fd",
   "metadata": {},
   "source": [
    "# Mosaic of Tiles"
   ]
  },
  {
   "cell_type": "markdown",
   "id": "c9589ac7",
   "metadata": {},
   "source": [
    "# using xarray as the key abstraction\n",
    "\n",
    "- memory usage\n",
    "- slicing in time dimension\n",
    "- flipping the cube on its side\n",
    "- XARRAY, Pandas - nice ecosystems\n",
    "- general slicing (x,y slicing)\n",
    "- concat and merge methods\n"
   ]
  },
  {
   "cell_type": "markdown",
   "id": "b0ec895d",
   "metadata": {},
   "source": [
    "# STAC - the good the bad and moving target\n",
    "\n",
    "- pystac-client\n",
    "- "
   ]
  },
  {
   "cell_type": "markdown",
   "id": "42b7659c",
   "metadata": {},
   "source": [
    "# Cloud Masking\n",
    "- sentinel vs landsat"
   ]
  },
  {
   "cell_type": "markdown",
   "id": "4ef8024d",
   "metadata": {},
   "source": [
    "# Scaling Levels - with Docker\n",
    "\n",
    "- simple bash background\n",
    "- docker orchstration via a python event loop\n",
    "- AWS baatch\n",
    "- AWS Lambda\n",
    "- Using Kubernetetes\n",
    "\n",
    "- DASK Scaling - not may favorite\n"
   ]
  },
  {
   "cell_type": "markdown",
   "id": "8664d5a9",
   "metadata": {},
   "source": [
    "# Open Data Cube Code Pointers\n",
    "\n",
    "- open data cube \n",
    "- ceos examples\n",
    "- movie - recording on why open data cube\n",
    "- encouragement from government customers\n",
    "- using open data cube or rolling your own xarrays tbd"
   ]
  },
  {
   "cell_type": "code",
   "execution_count": null,
   "id": "9ac53a65",
   "metadata": {},
   "outputs": [],
   "source": []
  }
 ],
 "metadata": {
  "kernelspec": {
   "display_name": "Python 3",
   "language": "python",
   "name": "python3"
  },
  "language_info": {
   "codemirror_mode": {
    "name": "ipython",
    "version": 3
   },
   "file_extension": ".py",
   "mimetype": "text/x-python",
   "name": "python",
   "nbconvert_exporter": "python",
   "pygments_lexer": "ipython3",
   "version": "3.7.10"
  }
 },
 "nbformat": 4,
 "nbformat_minor": 5
}
